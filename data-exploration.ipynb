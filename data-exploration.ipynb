{
 "cells": [
  {
   "cell_type": "markdown",
   "metadata": {},
   "source": [
    "### Imports"
   ]
  },
  {
   "cell_type": "code",
   "execution_count": 1,
   "metadata": {
    "collapsed": true
   },
   "outputs": [],
   "source": [
    "import os\n",
    "import matplotlib.pyplot as plt\n",
    "%matplotlib inline\n",
    "from PIL import Image\n",
    "import numpy as np\n",
    "import pandas as pd\n",
    "import h5py\n",
    "import tables as pt\n",
    "import random\n",
    "import math\n",
    "from __future__ import division"
   ]
  },
  {
   "cell_type": "markdown",
   "metadata": {},
   "source": [
    "### Constants"
   ]
  },
  {
   "cell_type": "code",
   "execution_count": 2,
   "metadata": {
    "collapsed": false
   },
   "outputs": [],
   "source": [
    "# Paths\n",
    "cwd = os.getcwd()\n",
    "images_dir = os.path.join(cwd, 'images/')\n",
    "\n",
    "# Storage\n",
    "store = pd.HDFStore(cwd + '/store.h5')"
   ]
  },
  {
   "cell_type": "markdown",
   "metadata": {},
   "source": [
    "### Create images info dataframe"
   ]
  },
  {
   "cell_type": "code",
   "execution_count": 3,
   "metadata": {
    "collapsed": false
   },
   "outputs": [],
   "source": [
    "# Group all images info in a single dataframe called all_images_df\n",
    "labels = []\n",
    "full_paths = []\n",
    "\n",
    "# Get list of all images\n",
    "images_filenames = os.listdir(images_dir)\n",
    "\n",
    "# Add each image info to the all_images_df\n",
    "for filename in images_filenames:\n",
    "    label = ['cat', 'dog'].index(filename[:3])\n",
    "    \n",
    "    labels.append(label)\n",
    "    full_paths.append(images_dir + filename)\n",
    "    \n",
    "images_df = pd.DataFrame({\n",
    "        'label': labels,\n",
    "        'full_path': full_paths\n",
    "    })"
   ]
  },
  {
   "cell_type": "code",
   "execution_count": 4,
   "metadata": {
    "collapsed": false,
    "scrolled": false
   },
   "outputs": [
    {
     "data": {
      "text/html": [
       "<div>\n",
       "<table border=\"1\" class=\"dataframe\">\n",
       "  <thead>\n",
       "    <tr style=\"text-align: right;\">\n",
       "      <th></th>\n",
       "      <th>full_path</th>\n",
       "      <th>label</th>\n",
       "    </tr>\n",
       "  </thead>\n",
       "  <tbody>\n",
       "    <tr>\n",
       "      <th>24995</th>\n",
       "      <td>/home/hugo/Desktop/cat-or-dog/images/cat.2679.jpg</td>\n",
       "      <td>0</td>\n",
       "    </tr>\n",
       "    <tr>\n",
       "      <th>24996</th>\n",
       "      <td>/home/hugo/Desktop/cat-or-dog/images/dog.4805.jpg</td>\n",
       "      <td>1</td>\n",
       "    </tr>\n",
       "    <tr>\n",
       "      <th>24997</th>\n",
       "      <td>/home/hugo/Desktop/cat-or-dog/images/cat.3345.jpg</td>\n",
       "      <td>0</td>\n",
       "    </tr>\n",
       "    <tr>\n",
       "      <th>24998</th>\n",
       "      <td>/home/hugo/Desktop/cat-or-dog/images/dog.9535.jpg</td>\n",
       "      <td>1</td>\n",
       "    </tr>\n",
       "    <tr>\n",
       "      <th>24999</th>\n",
       "      <td>/home/hugo/Desktop/cat-or-dog/images/cat.11227...</td>\n",
       "      <td>0</td>\n",
       "    </tr>\n",
       "  </tbody>\n",
       "</table>\n",
       "</div>"
      ],
      "text/plain": [
       "                                               full_path  label\n",
       "24995  /home/hugo/Desktop/cat-or-dog/images/cat.2679.jpg      0\n",
       "24996  /home/hugo/Desktop/cat-or-dog/images/dog.4805.jpg      1\n",
       "24997  /home/hugo/Desktop/cat-or-dog/images/cat.3345.jpg      0\n",
       "24998  /home/hugo/Desktop/cat-or-dog/images/dog.9535.jpg      1\n",
       "24999  /home/hugo/Desktop/cat-or-dog/images/cat.11227...      0"
      ]
     },
     "execution_count": 4,
     "metadata": {},
     "output_type": "execute_result"
    }
   ],
   "source": [
    "images_df.tail()"
   ]
  },
  {
   "cell_type": "markdown",
   "metadata": {},
   "source": [
    "### Explore data"
   ]
  },
  {
   "cell_type": "code",
   "execution_count": 5,
   "metadata": {
    "collapsed": false
   },
   "outputs": [],
   "source": [
    "def add_size_to_image_df():\n",
    "    widths = []\n",
    "    heights = []\n",
    "    ratios = []\n",
    "    \n",
    "    for index, row in images_df.iterrows():\n",
    "        img_full_path = row['full_path']\n",
    "        img = Image.open(img_full_path,'r')\n",
    "        width, height = img.size\n",
    "        widths.append(width)\n",
    "        heights.append(height)\n",
    "        ratios.append(float(width)/float(height))\n",
    "    \n",
    "    images_df['width'] = widths\n",
    "    images_df['height'] = heights\n",
    "    images_df['ratio'] = ratios\n",
    "\n",
    "add_size_to_image_df()"
   ]
  },
  {
   "cell_type": "code",
   "execution_count": 6,
   "metadata": {
    "collapsed": false
   },
   "outputs": [
    {
     "data": {
      "text/html": [
       "<div>\n",
       "<table border=\"1\" class=\"dataframe\">\n",
       "  <thead>\n",
       "    <tr style=\"text-align: right;\">\n",
       "      <th></th>\n",
       "      <th>full_path</th>\n",
       "      <th>label</th>\n",
       "      <th>width</th>\n",
       "      <th>height</th>\n",
       "      <th>ratio</th>\n",
       "    </tr>\n",
       "  </thead>\n",
       "  <tbody>\n",
       "    <tr>\n",
       "      <th>0</th>\n",
       "      <td>/home/hugo/Desktop/cat-or-dog/images/dog.8010.jpg</td>\n",
       "      <td>1</td>\n",
       "      <td>174</td>\n",
       "      <td>223</td>\n",
       "      <td>0.780269</td>\n",
       "    </tr>\n",
       "    <tr>\n",
       "      <th>1</th>\n",
       "      <td>/home/hugo/Desktop/cat-or-dog/images/dog.4447.jpg</td>\n",
       "      <td>1</td>\n",
       "      <td>353</td>\n",
       "      <td>500</td>\n",
       "      <td>0.706000</td>\n",
       "    </tr>\n",
       "    <tr>\n",
       "      <th>2</th>\n",
       "      <td>/home/hugo/Desktop/cat-or-dog/images/cat.6824.jpg</td>\n",
       "      <td>0</td>\n",
       "      <td>350</td>\n",
       "      <td>261</td>\n",
       "      <td>1.340996</td>\n",
       "    </tr>\n",
       "    <tr>\n",
       "      <th>3</th>\n",
       "      <td>/home/hugo/Desktop/cat-or-dog/images/cat.11447...</td>\n",
       "      <td>0</td>\n",
       "      <td>500</td>\n",
       "      <td>374</td>\n",
       "      <td>1.336898</td>\n",
       "    </tr>\n",
       "    <tr>\n",
       "      <th>4</th>\n",
       "      <td>/home/hugo/Desktop/cat-or-dog/images/cat.4736.jpg</td>\n",
       "      <td>0</td>\n",
       "      <td>402</td>\n",
       "      <td>499</td>\n",
       "      <td>0.805611</td>\n",
       "    </tr>\n",
       "  </tbody>\n",
       "</table>\n",
       "</div>"
      ],
      "text/plain": [
       "                                           full_path  label  width  height  \\\n",
       "0  /home/hugo/Desktop/cat-or-dog/images/dog.8010.jpg      1    174     223   \n",
       "1  /home/hugo/Desktop/cat-or-dog/images/dog.4447.jpg      1    353     500   \n",
       "2  /home/hugo/Desktop/cat-or-dog/images/cat.6824.jpg      0    350     261   \n",
       "3  /home/hugo/Desktop/cat-or-dog/images/cat.11447...      0    500     374   \n",
       "4  /home/hugo/Desktop/cat-or-dog/images/cat.4736.jpg      0    402     499   \n",
       "\n",
       "      ratio  \n",
       "0  0.780269  \n",
       "1  0.706000  \n",
       "2  1.340996  \n",
       "3  1.336898  \n",
       "4  0.805611  "
      ]
     },
     "execution_count": 6,
     "metadata": {},
     "output_type": "execute_result"
    }
   ],
   "source": [
    "images_df.head()"
   ]
  },
  {
   "cell_type": "code",
   "execution_count": 7,
   "metadata": {
    "collapsed": true
   },
   "outputs": [],
   "source": [
    "def plot_height_repartition():\n",
    "    fig, (ax1, ax2) = plt.subplots(1, 2, figsize=(12, 2))\n",
    "    ax1.plot(images_df['ratio'])\n",
    "    ax1.set_title('Image size ratio : width/height')\n",
    "    ax1.set_xlabel('Image index')\n",
    "    ax1.set_ylabel('Ratio')\n",
    "    print 'Average image ratio: {}'.format(np.mean(images_df['ratio']))\n",
    "    \n",
    "    ax2.plot(images_df['width'], images_df['height'], '.g')\n",
    "    ax2.set_title('Image size')\n",
    "    ax2.set_xlabel('Width in pixels')\n",
    "    ax2.set_ylabel('Height in pixels')\n",
    "    plt.show()"
   ]
  },
  {
   "cell_type": "code",
   "execution_count": 8,
   "metadata": {
    "collapsed": false
   },
   "outputs": [
    {
     "name": "stdout",
     "output_type": "stream",
     "text": [
      "Average image ratio: 1.15719884542\n"
     ]
    },
    {
     "data": {
      "image/png": "[encoded data removed]",
      "text/plain": [
       "<matplotlib.figure.Figure at 0x7f9a8c1f2c90>"
      ]
     },
     "metadata": {},
     "output_type": "display_data"
    }
   ],
   "source": [
    "plot_height_repartition()"
   ]
  },
  {
   "cell_type": "code",
   "execution_count": 9,
   "metadata": {
    "collapsed": false
   },
   "outputs": [
    {
     "data": {
      "text/html": [
       "<div>\n",
       "<table border=\"1\" class=\"dataframe\">\n",
       "  <thead>\n",
       "    <tr style=\"text-align: right;\">\n",
       "      <th></th>\n",
       "      <th>full_path</th>\n",
       "      <th>label</th>\n",
       "      <th>width</th>\n",
       "      <th>height</th>\n",
       "      <th>ratio</th>\n",
       "    </tr>\n",
       "  </thead>\n",
       "  <tbody>\n",
       "    <tr>\n",
       "      <th>6018</th>\n",
       "      <td>/home/hugo/Desktop/cat-or-dog/images/dog.2317.jpg</td>\n",
       "      <td>1</td>\n",
       "      <td>1050</td>\n",
       "      <td>702</td>\n",
       "      <td>1.495726</td>\n",
       "    </tr>\n",
       "    <tr>\n",
       "      <th>21062</th>\n",
       "      <td>/home/hugo/Desktop/cat-or-dog/images/cat.835.jpg</td>\n",
       "      <td>0</td>\n",
       "      <td>1023</td>\n",
       "      <td>768</td>\n",
       "      <td>1.332031</td>\n",
       "    </tr>\n",
       "  </tbody>\n",
       "</table>\n",
       "</div>"
      ],
      "text/plain": [
       "                                               full_path  label  width  \\\n",
       "6018   /home/hugo/Desktop/cat-or-dog/images/dog.2317.jpg      1   1050   \n",
       "21062   /home/hugo/Desktop/cat-or-dog/images/cat.835.jpg      0   1023   \n",
       "\n",
       "       height     ratio  \n",
       "6018      702  1.495726  \n",
       "21062     768  1.332031  "
      ]
     },
     "execution_count": 9,
     "metadata": {},
     "output_type": "execute_result"
    }
   ],
   "source": [
    "images_df[(images_df['height']>500) | (images_df['width']>500) ]"
   ]
  },
  {
   "cell_type": "code",
   "execution_count": 10,
   "metadata": {
    "collapsed": false
   },
   "outputs": [
    {
     "data": {
      "text/html": [
       "<div>\n",
       "<table border=\"1\" class=\"dataframe\">\n",
       "  <thead>\n",
       "    <tr style=\"text-align: right;\">\n",
       "      <th></th>\n",
       "      <th>full_path</th>\n",
       "      <th>label</th>\n",
       "      <th>width</th>\n",
       "      <th>height</th>\n",
       "      <th>ratio</th>\n",
       "    </tr>\n",
       "  </thead>\n",
       "  <tbody>\n",
       "    <tr>\n",
       "      <th>3925</th>\n",
       "      <td>/home/hugo/Desktop/cat-or-dog/images/dog.4367.jpg</td>\n",
       "      <td>1</td>\n",
       "      <td>195</td>\n",
       "      <td>33</td>\n",
       "      <td>5.909091</td>\n",
       "    </tr>\n",
       "    <tr>\n",
       "      <th>11670</th>\n",
       "      <td>/home/hugo/Desktop/cat-or-dog/images/cat.9171.jpg</td>\n",
       "      <td>0</td>\n",
       "      <td>145</td>\n",
       "      <td>38</td>\n",
       "      <td>3.815789</td>\n",
       "    </tr>\n",
       "  </tbody>\n",
       "</table>\n",
       "</div>"
      ],
      "text/plain": [
       "                                               full_path  label  width  \\\n",
       "3925   /home/hugo/Desktop/cat-or-dog/images/dog.4367.jpg      1    195   \n",
       "11670  /home/hugo/Desktop/cat-or-dog/images/cat.9171.jpg      0    145   \n",
       "\n",
       "       height     ratio  \n",
       "3925       33  5.909091  \n",
       "11670      38  3.815789  "
      ]
     },
     "execution_count": 10,
     "metadata": {},
     "output_type": "execute_result"
    }
   ],
   "source": [
    "images_df[images_df['ratio']>3.5]"
   ]
  },
  {
   "cell_type": "code",
   "execution_count": 11,
   "metadata": {
    "collapsed": true
   },
   "outputs": [],
   "source": [
    "# Remove outliers\n",
    "images_df = images_df.drop([6018, 21062, 3925, 11670]).reset_index(drop=True)"
   ]
  },
  {
   "cell_type": "code",
   "execution_count": 12,
   "metadata": {
    "collapsed": false
   },
   "outputs": [
    {
     "name": "stdout",
     "output_type": "stream",
     "text": [
      "Average image ratio: 1.15688184099\n"
     ]
    },
    {
     "data": {
      "image/png": "[encoded data removed]",
      "text/plain": [
       "<matplotlib.figure.Figure at 0x7f9a647140d0>"
      ]
     },
     "metadata": {},
     "output_type": "display_data"
    }
   ],
   "source": [
    "plot_height_repartition()"
   ]
  },
  {
   "cell_type": "code",
   "execution_count": 13,
   "metadata": {
    "collapsed": false
   },
   "outputs": [
    {
     "data": {
      "text/html": [
       "<div>\n",
       "<table border=\"1\" class=\"dataframe\">\n",
       "  <thead>\n",
       "    <tr style=\"text-align: right;\">\n",
       "      <th></th>\n",
       "      <th>label</th>\n",
       "      <th>width</th>\n",
       "      <th>height</th>\n",
       "      <th>ratio</th>\n",
       "    </tr>\n",
       "  </thead>\n",
       "  <tbody>\n",
       "    <tr>\n",
       "      <th>count</th>\n",
       "      <td>24996.00000</td>\n",
       "      <td>24996.000000</td>\n",
       "      <td>24996.000000</td>\n",
       "      <td>24996.000000</td>\n",
       "    </tr>\n",
       "    <tr>\n",
       "      <th>mean</th>\n",
       "      <td>0.50000</td>\n",
       "      <td>404.067171</td>\n",
       "      <td>360.474116</td>\n",
       "      <td>1.156882</td>\n",
       "    </tr>\n",
       "    <tr>\n",
       "      <th>std</th>\n",
       "      <td>0.50001</td>\n",
       "      <td>108.879389</td>\n",
       "      <td>96.925833</td>\n",
       "      <td>0.289888</td>\n",
       "    </tr>\n",
       "    <tr>\n",
       "      <th>min</th>\n",
       "      <td>0.00000</td>\n",
       "      <td>42.000000</td>\n",
       "      <td>32.000000</td>\n",
       "      <td>0.306613</td>\n",
       "    </tr>\n",
       "    <tr>\n",
       "      <th>25%</th>\n",
       "      <td>0.00000</td>\n",
       "      <td>323.000000</td>\n",
       "      <td>301.000000</td>\n",
       "      <td>0.929810</td>\n",
       "    </tr>\n",
       "    <tr>\n",
       "      <th>50%</th>\n",
       "      <td>0.50000</td>\n",
       "      <td>447.000000</td>\n",
       "      <td>374.000000</td>\n",
       "      <td>1.270435</td>\n",
       "    </tr>\n",
       "    <tr>\n",
       "      <th>75%</th>\n",
       "      <td>1.00000</td>\n",
       "      <td>499.000000</td>\n",
       "      <td>420.250000</td>\n",
       "      <td>1.336898</td>\n",
       "    </tr>\n",
       "    <tr>\n",
       "      <th>max</th>\n",
       "      <td>1.00000</td>\n",
       "      <td>500.000000</td>\n",
       "      <td>500.000000</td>\n",
       "      <td>3.378378</td>\n",
       "    </tr>\n",
       "  </tbody>\n",
       "</table>\n",
       "</div>"
      ],
      "text/plain": [
       "             label         width        height         ratio\n",
       "count  24996.00000  24996.000000  24996.000000  24996.000000\n",
       "mean       0.50000    404.067171    360.474116      1.156882\n",
       "std        0.50001    108.879389     96.925833      0.289888\n",
       "min        0.00000     42.000000     32.000000      0.306613\n",
       "25%        0.00000    323.000000    301.000000      0.929810\n",
       "50%        0.50000    447.000000    374.000000      1.270435\n",
       "75%        1.00000    499.000000    420.250000      1.336898\n",
       "max        1.00000    500.000000    500.000000      3.378378"
      ]
     },
     "execution_count": 13,
     "metadata": {},
     "output_type": "execute_result"
    }
   ],
   "source": [
    "images_df.describe()"
   ]
  },
  {
   "cell_type": "markdown",
   "metadata": {},
   "source": [
    "### Split dataset"
   ]
  },
  {
   "cell_type": "code",
   "execution_count": 14,
   "metadata": {
    "collapsed": false
   },
   "outputs": [
    {
     "name": "stderr",
     "output_type": "stream",
     "text": [
      "/usr/local/lib/python2.7/dist-packages/ipykernel/__main__.py:1: FutureWarning: sort(columns=....) is deprecated, use sort_values(by=.....)\n",
      "  if __name__ == '__main__':\n"
     ]
    }
   ],
   "source": [
    "images_df = images_df.sort('label').reset_index(drop=True)"
   ]
  },
  {
   "cell_type": "code",
   "execution_count": 15,
   "metadata": {
    "collapsed": false
   },
   "outputs": [
    {
     "name": "stdout",
     "output_type": "stream",
     "text": [
      "cats len: 12498\n",
      "dogs len: 12498\n",
      "24996\n"
     ]
    }
   ],
   "source": [
    "# Split dataset randomly into training, validation and test set\n",
    "train_images_nb = 20996\n",
    "validation_images_nb = 2000\n",
    "test_images_nb = 2000\n",
    "\n",
    "def add_set_names_to_images_df():\n",
    "    set_names = []\n",
    "    cats_set_names = []\n",
    "    dogs_set_names = []\n",
    "    for _ in range(int(train_images_nb/2)):\n",
    "        cats_set_names.append('train')\n",
    "        dogs_set_names.append('train')\n",
    "    for _ in range(int(validation_images_nb/2)):\n",
    "        cats_set_names.append('validation')\n",
    "        dogs_set_names.append('validation')\n",
    "    for _ in range(int(test_images_nb/2)):\n",
    "        cats_set_names.append('test')\n",
    "        dogs_set_names.append('test')\n",
    "        \n",
    "    random.shuffle(cats_set_names)\n",
    "    random.shuffle(dogs_set_names)\n",
    "    \n",
    "    print 'cats len:', len(cats_set_names)\n",
    "    print 'dogs len:', len(dogs_set_names)\n",
    "    \n",
    "    set_names.extend(cats_set_names)\n",
    "    set_names.extend(dogs_set_names)\n",
    "    \n",
    "    print len(set_names)\n",
    "    images_df['set_name'] = set_names\n",
    "\n",
    "add_set_names_to_images_df()"
   ]
  },
  {
   "cell_type": "code",
   "execution_count": 16,
   "metadata": {
    "collapsed": false
   },
   "outputs": [
    {
     "data": {
      "text/html": [
       "<div>\n",
       "<table border=\"1\" class=\"dataframe\">\n",
       "  <thead>\n",
       "    <tr style=\"text-align: right;\">\n",
       "      <th></th>\n",
       "      <th>full_path</th>\n",
       "      <th>label</th>\n",
       "      <th>width</th>\n",
       "      <th>height</th>\n",
       "      <th>ratio</th>\n",
       "      <th>set_name</th>\n",
       "    </tr>\n",
       "  </thead>\n",
       "  <tbody>\n",
       "    <tr>\n",
       "      <th>24991</th>\n",
       "      <td>/home/hugo/Desktop/cat-or-dog/images/dog.661.jpg</td>\n",
       "      <td>1</td>\n",
       "      <td>240</td>\n",
       "      <td>179</td>\n",
       "      <td>1.340782</td>\n",
       "      <td>train</td>\n",
       "    </tr>\n",
       "    <tr>\n",
       "      <th>24992</th>\n",
       "      <td>/home/hugo/Desktop/cat-or-dog/images/dog.7429.jpg</td>\n",
       "      <td>1</td>\n",
       "      <td>399</td>\n",
       "      <td>500</td>\n",
       "      <td>0.798000</td>\n",
       "      <td>train</td>\n",
       "    </tr>\n",
       "    <tr>\n",
       "      <th>24993</th>\n",
       "      <td>/home/hugo/Desktop/cat-or-dog/images/dog.10948...</td>\n",
       "      <td>1</td>\n",
       "      <td>499</td>\n",
       "      <td>375</td>\n",
       "      <td>1.330667</td>\n",
       "      <td>train</td>\n",
       "    </tr>\n",
       "    <tr>\n",
       "      <th>24994</th>\n",
       "      <td>/home/hugo/Desktop/cat-or-dog/images/dog.2499.jpg</td>\n",
       "      <td>1</td>\n",
       "      <td>499</td>\n",
       "      <td>375</td>\n",
       "      <td>1.330667</td>\n",
       "      <td>train</td>\n",
       "    </tr>\n",
       "    <tr>\n",
       "      <th>24995</th>\n",
       "      <td>/home/hugo/Desktop/cat-or-dog/images/dog.8010.jpg</td>\n",
       "      <td>1</td>\n",
       "      <td>174</td>\n",
       "      <td>223</td>\n",
       "      <td>0.780269</td>\n",
       "      <td>test</td>\n",
       "    </tr>\n",
       "  </tbody>\n",
       "</table>\n",
       "</div>"
      ],
      "text/plain": [
       "                                               full_path  label  width  \\\n",
       "24991   /home/hugo/Desktop/cat-or-dog/images/dog.661.jpg      1    240   \n",
       "24992  /home/hugo/Desktop/cat-or-dog/images/dog.7429.jpg      1    399   \n",
       "24993  /home/hugo/Desktop/cat-or-dog/images/dog.10948...      1    499   \n",
       "24994  /home/hugo/Desktop/cat-or-dog/images/dog.2499.jpg      1    499   \n",
       "24995  /home/hugo/Desktop/cat-or-dog/images/dog.8010.jpg      1    174   \n",
       "\n",
       "       height     ratio set_name  \n",
       "24991     179  1.340782    train  \n",
       "24992     500  0.798000    train  \n",
       "24993     375  1.330667    train  \n",
       "24994     375  1.330667    train  \n",
       "24995     223  0.780269     test  "
      ]
     },
     "execution_count": 16,
     "metadata": {},
     "output_type": "execute_result"
    }
   ],
   "source": [
    "images_df.tail()"
   ]
  },
  {
   "cell_type": "markdown",
   "metadata": {},
   "source": [
    "### Save dataset"
   ]
  },
  {
   "cell_type": "code",
   "execution_count": 17,
   "metadata": {
    "collapsed": true
   },
   "outputs": [],
   "source": [
    "# Save images data\n",
    "store['images_df'] = images_df\n",
    "store.close()"
   ]
  },
  {
   "cell_type": "code",
   "execution_count": 18,
   "metadata": {
    "collapsed": false
   },
   "outputs": [
    {
     "name": "stdout",
     "output_type": "stream",
     "text": [
      "Total number of cats: 12498\n",
      "Total number of dogs: 12498\n",
      "Number of cats in training set: 10498\n",
      "Number of dogs in training set: 10498\n",
      "Number of cats in validation set: 1000\n",
      "Number of dogs in validation set: 1000\n",
      "Number of cats in test set: 1000\n",
      "Number of dogs in test set: 1000\n"
     ]
    }
   ],
   "source": [
    "print 'Total number of cats: {}'.format(len(images_df[images_df['label']==0]))\n",
    "print 'Total number of dogs: {}'.format(len(images_df[images_df['label']==1]))\n",
    "\n",
    "print 'Number of cats in training set: {}'.format(len(images_df[(images_df['label']==0) & (images_df['set_name']=='train')]))\n",
    "print 'Number of dogs in training set: {}'.format(len(images_df[(images_df['label']==1) & (images_df['set_name']=='train')]))\n",
    "\n",
    "print 'Number of cats in validation set: {}'.format(len(images_df[(images_df['label']==0) & (images_df['set_name']=='validation')]))\n",
    "print 'Number of dogs in validation set: {}'.format(len(images_df[(images_df['label']==1) & (images_df['set_name']=='validation')]))\n",
    "\n",
    "print 'Number of cats in test set: {}'.format(len(images_df[(images_df['label']==0) & (images_df['set_name']=='test')]))\n",
    "print 'Number of dogs in test set: {}'.format(len(images_df[(images_df['label']==1) & (images_df['set_name']=='test')]))\n"
   ]
  }
 ],
 "metadata": {
  "kernelspec": {
   "display_name": "Python 2",
   "language": "python",
   "name": "python2"
  },
  "language_info": {
   "codemirror_mode": {
    "name": "ipython",
    "version": 2
   },
   "file_extension": ".py",
   "mimetype": "text/x-python",
   "name": "python",
   "nbconvert_exporter": "python",
   "pygments_lexer": "ipython2",
   "version": "2.7.6"
  }
 },
 "nbformat": 4,
 "nbformat_minor": 1
}
